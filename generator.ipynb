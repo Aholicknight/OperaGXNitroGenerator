{
 "cells": [
  {
   "cell_type": "code",
   "execution_count": null,
   "metadata": {},
   "outputs": [],
   "source": [
    "import requests\n",
    "import time\n",
    "import ctypes\n",
    "import os\n",
    "import uuid\n",
    "import colorama\n",
    "from colorama import Fore, Style\n",
    "\n",
    "# Initialize colorama\n",
    "colorama.init()"
   ]
  },
  {
   "cell_type": "code",
   "execution_count": null,
   "metadata": {},
   "outputs": [],
   "source": [
    "# Ask how many requests to make\n",
    "num_requests = int(input(\"How many requests would you like to make? \"))\n",
    "\n",
    "# URL to send POST requests to\n",
    "url = \"https://api.discord.gx.games/v1/direct-fulfillment\"\n",
    "\n",
    "# Counter for successful requests\n",
    "successful_requests = 0\n",
    "\n",
    "# Animation characters\n",
    "animation_chars = ['/', '-', '\\\\', '|']\n",
    "\n",
    "# Clear the console\n",
    "os.system('cls' if os.name == 'nt' else 'clear')"
   ]
  },
  {
   "cell_type": "code",
   "execution_count": null,
   "metadata": {},
   "outputs": [],
   "source": [
    "# Create the generatedcodes.txt file if it doesn't exist\n",
    "if not os.path.exists(\"generatedcodes.txt\"):\n",
    "    open(\"generatedcodes.txt\", \"w\").close()\n",
    "\n",
    "# Open the file to write the responses\n",
    "with open(\"generatedcodes.txt\", \"w\") as file:\n",
    "    for i in range(num_requests):\n",
    "        # Generate a new UUID for each request\n",
    "        data = {\"partnerUserId\":str(uuid.uuid4())}\n",
    "\n",
    "        # Send the POST request\n",
    "        response = requests.post(url, json=data)\n",
    "\n",
    "        if response.status_code == 200:\n",
    "            token = response.json().get('token')\n",
    "            if token:\n",
    "                successful_requests += 1\n",
    "                link = f\"https://discord.com/billing/partner-promotions/1180231712274387115/{token}\"\n",
    "                file.write(f\"{link}\\n\")\n",
    "        elif response.status_code == 429:\n",
    "            print(f\"{Fore.YELLOW}You are being rate-limited!{Style.RESET_ALL}\")\n",
    "        else:\n",
    "            print(f\"{Fore.RED}Request failed : {response.status_code}{Style.RESET_ALL}\")\n",
    "\n",
    "        # Update the console title with the animation\n",
    "        ctypes.windll.kernel32.SetConsoleTitleW(\n",
    "            f\"Generating codes {animation_chars[i % len(animation_chars)]}.....({successful_requests})\")\n",
    "\n",
    "        # Print the animation and the number of successful requests to the console\n",
    "        print(f\"\\rGenerating codes {animation_chars[i % len(animation_chars)]}.....({Fore.GREEN}{successful_requests}{Style.RESET_ALL}) out of {num_requests}\", end=\"\")"
   ]
  },
  {
   "cell_type": "code",
   "execution_count": null,
   "metadata": {},
   "outputs": [],
   "source": [
    "# Clear the console\n",
    "os.system('cls' if os.name == 'nt' else 'clear')\n",
    "\n",
    "# Print the final message\n",
    "print(f\"Generated {Fore.GREEN}{successful_requests}{Style.RESET_ALL} successfully!\")\n",
    "input(\"Press any key to exit\")"
   ]
  }
 ],
 "metadata": {
  "kernelspec": {
   "display_name": ".venv",
   "language": "python",
   "name": "python3"
  },
  "language_info": {
   "codemirror_mode": {
    "name": "ipython",
    "version": 3
   },
   "file_extension": ".py",
   "mimetype": "text/x-python",
   "name": "python",
   "nbconvert_exporter": "python",
   "pygments_lexer": "ipython3",
   "version": "3.11.6"
  }
 },
 "nbformat": 4,
 "nbformat_minor": 2
}
